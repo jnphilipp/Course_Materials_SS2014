{
 "metadata": {
  "name": ""
 },
 "nbformat": 3,
 "nbformat_minor": 0,
 "worksheets": [
  {
   "cells": [
    {
     "cell_type": "heading",
     "level": 1,
     "metadata": {},
     "source": [
      "Introduction to `lxml`"
     ]
    },
    {
     "cell_type": "heading",
     "level": 2,
     "metadata": {},
     "source": [
      "Parsing XML"
     ]
    },
    {
     "cell_type": "markdown",
     "metadata": {},
     "source": [
      "The `lxml` package for Python is a high-speed package for creating and parsing XML.  It also has some primitive web-scraping capabilities.  Let's jump right in.\n",
      "First, let's import `etree` from `lxml`.  Then define a `string` variable with some XML in it."
     ]
    },
    {
     "cell_type": "code",
     "collapsed": false,
     "input": [
      "from lxml import etree\n",
      "xml_text = \"<xml><book id='Genesis'><chapter id='1'><verse id='1'>In the beginning when God created the heavens and the earth,</verse><verse id='2'>the earth was a formless void and darkness covered the face of the deep, while a wind from God swept over the face of the waters.</verse></chapter><chapter id='2'><verse id='1'>Thus the heavens and the earth were finished, and all their multitude.</verse><verse id='2'>And on the seventh day God finished the work that he had done, and he rested on the seventh day from all the work that he had done.</verse></chapter></book></xml>\""
     ],
     "language": "python",
     "metadata": {},
     "outputs": []
    },
    {
     "cell_type": "markdown",
     "metadata": {},
     "source": [
      "The basic `class` in `lxml` is the `Element class`.  You can convert a `string` to an `etree._Element` object with the `etree.fromstring()` function."
     ]
    },
    {
     "cell_type": "code",
     "collapsed": false,
     "input": [
      "xml = etree.fromstring(xml_text)\n",
      "print(type(xml))\n",
      "print(xml)"
     ],
     "language": "python",
     "metadata": {},
     "outputs": []
    },
    {
     "cell_type": "markdown",
     "metadata": {},
     "source": [
      "In order to print the actual contents of an `Element`, we need to use the `etree.tostring()` function."
     ]
    },
    {
     "cell_type": "code",
     "collapsed": false,
     "input": [
      "print(etree.tostring(xml, encoding = 'unicode'))"
     ],
     "language": "python",
     "metadata": {},
     "outputs": []
    },
    {
     "cell_type": "markdown",
     "metadata": {},
     "source": [
      "Notice how much more readable it is with the `pretty print` parameter set to `True`."
     ]
    },
    {
     "cell_type": "code",
     "collapsed": false,
     "input": [
      "print(etree.tostring(xml, encoding = 'unicode', pretty_print = True))"
     ],
     "language": "python",
     "metadata": {},
     "outputs": []
    },
    {
     "cell_type": "markdown",
     "metadata": {},
     "source": [
      "`Elements` are like `lists`.  Watch what we can do:"
     ]
    },
    {
     "cell_type": "code",
     "collapsed": false,
     "input": [
      "len(xml) #this is the contents <xml> tag"
     ],
     "language": "python",
     "metadata": {},
     "outputs": []
    },
    {
     "cell_type": "code",
     "collapsed": false,
     "input": [
      "len(xml[0]) #this is the contents of the <book> tag."
     ],
     "language": "python",
     "metadata": {},
     "outputs": []
    },
    {
     "cell_type": "code",
     "collapsed": false,
     "input": [
      "len(xml[0][0]) #this is the contents of the first <chapter> tag."
     ],
     "language": "python",
     "metadata": {},
     "outputs": []
    },
    {
     "cell_type": "code",
     "collapsed": false,
     "input": [
      "len(xml[0][1]) #and the length of the second <chapter> tag, etc."
     ],
     "language": "python",
     "metadata": {},
     "outputs": []
    },
    {
     "cell_type": "markdown",
     "metadata": {},
     "source": [
      "To access the individual members of the list, however, we cannot just `print` them.  As we saw above, this only returns an `Element` declaration.  Instead, we have to use the `iter()` method on the `Element` and then loop through the results, using `etree.tostring` on each one."
     ]
    },
    {
     "cell_type": "code",
     "collapsed": false,
     "input": [
      "for element in xml.iter():\n",
      "    print(etree.tostring(element, encoding = 'unicode'))"
     ],
     "language": "python",
     "metadata": {},
     "outputs": []
    },
    {
     "cell_type": "markdown",
     "metadata": {},
     "source": [
      "But look carefully at this.  Do you see anything unexpected?  Maybe it is easier to see with `pretty_print`."
     ]
    },
    {
     "cell_type": "code",
     "collapsed": false,
     "input": [
      "for element in xml.iter():\n",
      "    print(etree.tostring(element, encoding = 'unicode', pretty_print = True))"
     ],
     "language": "python",
     "metadata": {},
     "outputs": []
    },
    {
     "cell_type": "markdown",
     "metadata": {},
     "source": [
      "Do you see it now?  Each `Element` in the iterator contains all of its sub-elements as well.  Just remember this when printing or accessing parts of the tree"
     ]
    },
    {
     "cell_type": "markdown",
     "metadata": {},
     "source": [
      "`Elements` have tags that you can get at with the `tag` method."
     ]
    },
    {
     "cell_type": "code",
     "collapsed": false,
     "input": [
      "for element in xml.iter():\n",
      "    print(element.tag)"
     ],
     "language": "python",
     "metadata": {},
     "outputs": []
    },
    {
     "cell_type": "markdown",
     "metadata": {},
     "source": [
      "And the attributes of the `Elements` are available on the individual `Elements` like dictionaries.  You can access these with the `etree.get()` function."
     ]
    },
    {
     "cell_type": "code",
     "collapsed": false,
     "input": [
      "for element in xml.iter():\n",
      "    print(element.tag, '==', element.get('id'))"
     ],
     "language": "python",
     "metadata": {},
     "outputs": []
    },
    {
     "cell_type": "markdown",
     "metadata": {},
     "source": [
      "You can also get at these attributes with the `attrib` method.  Notice how much they look like dictionary entries."
     ]
    },
    {
     "cell_type": "code",
     "collapsed": false,
     "input": [
      "for element in xml.iter():\n",
      "    print(element.tag, element.attrib)"
     ],
     "language": "python",
     "metadata": {},
     "outputs": []
    },
    {
     "cell_type": "markdown",
     "metadata": {},
     "source": [
      "You can also pass the `iter` method the name of the tags you want to retrieve."
     ]
    },
    {
     "cell_type": "code",
     "collapsed": false,
     "input": [
      "for element in xml.iter('verse'):\n",
      "    print(element.tag, element.attrib)"
     ],
     "language": "python",
     "metadata": {},
     "outputs": []
    },
    {
     "cell_type": "markdown",
     "metadata": {},
     "source": [
      "One thing to pay attention to is what type of object each method returns.  Check it out!"
     ]
    },
    {
     "cell_type": "code",
     "collapsed": false,
     "input": [
      "print('The `iter` method returns:', type(xml.iter()))\n",
      "print('The `tag` method returns:', type(xml.tag))\n",
      "print('The `get` method returns:', type(xml[0].get('id')))\n",
      "print('The `attrib` method returns:', type(xml[0].attrib))\n",
      "#Even though this isn't a Python `dict`, we can still access it like one.\n",
      "print(xml[0].attrib)\n",
      "print(xml[0].attrib['id'])\n",
      "print(xml[0].items())"
     ],
     "language": "python",
     "metadata": {},
     "outputs": []
    },
    {
     "cell_type": "markdown",
     "metadata": {},
     "source": [
      "`Elements` also have `text`."
     ]
    },
    {
     "cell_type": "code",
     "collapsed": false,
     "input": [
      "for element in xml.iter('verse'):\n",
      "    print(element.tag, element.attrib['id'], '-', element.text)\n",
      "print('The `text` method returns:', type(xml[0][0][0].text))"
     ],
     "language": "python",
     "metadata": {},
     "outputs": []
    },
    {
     "cell_type": "markdown",
     "metadata": {},
     "source": [
      "You can also supports XPath searches on `Elements`."
     ]
    },
    {
     "cell_type": "code",
     "collapsed": false,
     "input": [
      "print(xml.xpath('verse'))"
     ],
     "language": "python",
     "metadata": {},
     "outputs": []
    },
    {
     "cell_type": "markdown",
     "metadata": {},
     "source": [
      "This searches only the direct child nodes of `<xml>`, i.e., the book tag.\n",
      "There is no direct child of `<xml>` that has a verse tag.  But..."
     ]
    },
    {
     "cell_type": "code",
     "collapsed": false,
     "input": [
      "print(xml[0][0].xpath('verse'))\n",
      "#to get at all tags throughout the tree...\n",
      "print(xml.xpath('.//verse'))"
     ],
     "language": "python",
     "metadata": {},
     "outputs": []
    },
    {
     "cell_type": "markdown",
     "metadata": {},
     "source": [
      "To get at the actual content, we need to loop over the `Elements`."
     ]
    },
    {
     "cell_type": "code",
     "collapsed": false,
     "input": [
      "for verses in xml.xpath('.//verse'):\n",
      "    print(etree.tostring(verses, encoding = 'unicode'))"
     ],
     "language": "python",
     "metadata": {},
     "outputs": []
    },
    {
     "cell_type": "markdown",
     "metadata": {},
     "source": [
      "A short introduction to the XPATH expressions in `lxml` can be found <a href='http://effbot.org/zone/element-xpath.htm'>here</a>."
     ]
    },
    {
     "cell_type": "heading",
     "level": 2,
     "metadata": {},
     "source": [
      "Scraping the web"
     ]
    },
    {
     "cell_type": "markdown",
     "metadata": {},
     "source": [
      "Another way to parse XML is with the `etree.parse` function.  Notice that it returns an `ElementTree` instead of an `Element`."
     ]
    },
    {
     "cell_type": "code",
     "collapsed": false,
     "input": [
      "from io import StringIO\n",
      "xml2 = etree.parse(StringIO(xml_text))\n",
      "print(type(xml2))\n",
      "print(etree.tostring(xml2, encoding = 'unicode', pretty_print = True))"
     ],
     "language": "python",
     "metadata": {},
     "outputs": []
    },
    {
     "cell_type": "markdown",
     "metadata": {},
     "source": [
      "In order to get an `Element` out, we need to use the `getroot` method."
     ]
    },
    {
     "cell_type": "code",
     "collapsed": false,
     "input": [
      "print(type(xml2.getroot()))"
     ],
     "language": "python",
     "metadata": {},
     "outputs": []
    },
    {
     "cell_type": "markdown",
     "metadata": {},
     "source": [
      "But the _great_ thing about the `etree.parse` function is that you can put a URL in there and get `lxml` to parse that for you."
     ]
    },
    {
     "cell_type": "code",
     "collapsed": true,
     "input": [
      "xml3 = etree.parse('http://www.bibelwissenschaft.de/online-bibeln/menge-bibel/bibeltext/', parser = etree.HTMLParser())\n",
      "print(etree.tostring(xml3, encoding = 'unicode'))"
     ],
     "language": "python",
     "metadata": {},
     "outputs": []
    },
    {
     "cell_type": "markdown",
     "metadata": {},
     "source": [
      "But notice how much extra stuff is in that parsed xml that we don't want.  This is where the statements that we talked about above in the __Parsing XML__ section come in handy.\n",
      "So now it is your turn.  Take the xml3 variable we defined above and extract only the text of the biblical verses that are contained on that page."
     ]
    },
    {
     "cell_type": "code",
     "collapsed": false,
     "input": [
      "#insert your code here."
     ],
     "language": "python",
     "metadata": {},
     "outputs": []
    },
    {
     "cell_type": "markdown",
     "metadata": {},
     "source": [
      "When you are done with that, figure out how to make `lxml` go automatically to the next page (containing Genesis chapter 2) and extract the biblical text from that page as well."
     ]
    },
    {
     "cell_type": "code",
     "collapsed": false,
     "input": [
      "#insert your code here"
     ],
     "language": "python",
     "metadata": {},
     "outputs": []
    },
    {
     "cell_type": "markdown",
     "metadata": {},
     "source": [
      "Now you can scrape the web for information using Python and `lxml`.  Now find a web page that has a text or a collection of texts that are interested for your class project and extract as many of the texts as you can, saving them preferably as individual files (though not on a public Github repository unless you are sure that the license of the website allows for that)."
     ]
    }
   ],
   "metadata": {}
  }
 ]
}