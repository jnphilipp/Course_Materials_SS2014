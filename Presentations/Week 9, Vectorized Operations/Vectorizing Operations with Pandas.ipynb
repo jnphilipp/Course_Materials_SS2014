{
 "metadata": {
  "name": ""
 },
 "nbformat": 3,
 "nbformat_minor": 0,
 "worksheets": [
  {
   "cells": [
    {
     "cell_type": "heading",
     "level": 1,
     "metadata": {},
     "source": [
      "Vectorizing Operations with Pandas: Speed Galore!"
     ]
    },
    {
     "cell_type": "markdown",
     "metadata": {},
     "source": [
      "Often, when you have your data in a Pandas DataFrame or a Numpy ndarray, you want to perform some sort of operation on every cell in your data frame.  You could loop over it, and sometimes you may have to.  But you should always try to vectorize your operations since this takes advantage of the Pandas/Numpy system of (arrayed) vectors.<br>\n",
      "Let's jump right in."
     ]
    },
    {
     "cell_type": "code",
     "collapsed": false,
     "input": [
      "import pandas as pd\n",
      "import numpy as np\n",
      "#First, we create an 8x8 array of random integers.\n",
      "df = pd.DataFrame(data = np.random.randint(0, 100, size = (8,8)), index = ('a', 'b', 'c', 'd', 'e', 'f', 'g', 'h'))\n",
      "print(df) #since we are using random numbers, your array will always be different."
     ],
     "language": "python",
     "metadata": {},
     "outputs": []
    },
    {
     "cell_type": "markdown",
     "metadata": {},
     "source": [
      "Now, as mentioned in the introduction, if we wanted to multiply every cell by 2, we could loop through each row and then each column of the DataFrame, multiply everything by two, and then return the result.  Something like this."
     ]
    },
    {
     "cell_type": "code",
     "collapsed": false,
     "input": [
      "def times_2():\n",
      "    global df2\n",
      "    val_dict = {}\n",
      "    for index, values in df.iterrows():\n",
      "        val_dict[index] = []\n",
      "        for value in values:\n",
      "            val_dict[index].append(value * 2)\n",
      "    df2 = pd.DataFrame(val_dict).T # transposes the df since dictionary elements are read as columns instead of rows.\n",
      "    df2.index = df.index\n",
      "    df2.columns = df.columns\n",
      "    return df2\n",
      "times_2()\n",
      "print(df2)"
     ],
     "language": "python",
     "metadata": {},
     "outputs": []
    },
    {
     "cell_type": "markdown",
     "metadata": {},
     "source": [
      "But this is not a very efficient way to perform this operation.  Let's take a look at an easier and faster way to do this: vectorizing."
     ]
    },
    {
     "cell_type": "code",
     "collapsed": false,
     "input": [
      "df3 = df * 2\n",
      "print(df)\n",
      "print(df3)\n",
      "print(df3 == df2) # element-wise comparison\n",
      "print(df3.all() == df2.all()) # column-wise comparison\n",
      "print(df3.all(axis = 1) == df2.all(axis = 1)) # row-wise comparison"
     ],
     "language": "python",
     "metadata": {},
     "outputs": []
    },
    {
     "cell_type": "markdown",
     "metadata": {},
     "source": [
      "Not only does the code take much less time to write, it also takes much less time to run.  Check it out."
     ]
    },
    {
     "cell_type": "code",
     "collapsed": false,
     "input": [
      "from timeit import timeit\n",
      "print(timeit('times_2()', 'from __main__ import df, times_2', number = 1000))\n",
      "print(timeit('df * 2', 'from __main__ import df', number = 1000))"
     ],
     "language": "python",
     "metadata": {},
     "outputs": []
    },
    {
     "cell_type": "markdown",
     "metadata": {},
     "source": [
      "Look at the difference! On my computer, vectorizing the operation (the second one) is about 19x faster than the loop.  This is why you should always try to vectorize your operations if you have a large data set.<br>\n",
      "You can also perform arithmetic operations between objects in a vectorized manner."
     ]
    },
    {
     "cell_type": "code",
     "collapsed": false,
     "input": [
      "print(df + df3)\n",
      "df4 = df + df3\n",
      "print(type(df4.ix[0,0]))\n",
      "print(df - df3)\n",
      "print(-df)\n",
      "print(df * df3)\n",
      "print(df / df3)\n",
      "print(1//2)"
     ],
     "language": "python",
     "metadata": {},
     "outputs": []
    },
    {
     "cell_type": "markdown",
     "metadata": {},
     "source": [
      "But what happens with exponents?"
     ]
    },
    {
     "cell_type": "code",
     "collapsed": false,
     "input": [
      "print(df ** df3)\n",
      "print(type(df.ix[0,0]))"
     ],
     "language": "python",
     "metadata": {},
     "outputs": []
    },
    {
     "cell_type": "markdown",
     "metadata": {},
     "source": [
      "The problem is that we have reached the limit of the numpy.int64 object.  We can get a larger range of number if we switch to the numpy.float64 object type.<br>\n",
      "Note, if you have a Unix based system, then you can also use the numpy.float128 type.  As far as I know, this is not available on Windows systems."
     ]
    },
    {
     "cell_type": "code",
     "collapsed": true,
     "input": [
      "df_exp = np.float64(df) ** df3 #Notice that we only need to invoke float64 on one of the objects and it affects our answer.\n",
      "print(df_exp)\n",
      "# and to check and make sure our answers are correct:\n",
      "for x in range(8):\n",
      "    for y in range(8):\n",
      "        print(np.float64(df.ix[x, y]) ** df3.ix[x, y] == df_exp.ix[x, y])"
     ],
     "language": "python",
     "metadata": {},
     "outputs": []
    },
    {
     "cell_type": "markdown",
     "metadata": {},
     "source": [
      "If we want to apply a function to each column of a DataFrame, we can simply call the method.<br>\n",
      "If, however, we want to apply it row-wise, we need to call the apply method on the df."
     ]
    },
    {
     "cell_type": "code",
     "collapsed": false,
     "input": [
      "print(np.mean(df)) #This applies column-wise.\n",
      "print('Vectorized function takes %s seconds' % timeit('np.mean(df)', 'from __main__ import df, np', number = 1000))\n",
      "print(df.apply(np.mean, axis = 1)) #This applies the function row-wise.\n",
      "print('Apply method takes %s seconds' % timeit('df.apply(np.mean, axis = 1)', 'from __main__ import df, np', number = 1000))"
     ],
     "language": "python",
     "metadata": {},
     "outputs": []
    },
    {
     "cell_type": "markdown",
     "metadata": {},
     "source": [
      "Notice how much longer the apply method takes.  So, unless you really have to do things row-wise, simply vectorize your operations."
     ]
    },
    {
     "cell_type": "markdown",
     "metadata": {},
     "source": [
      "You can also apply a Pandas Series (or even scalar values) to a DataFrame element-wise."
     ]
    },
    {
     "cell_type": "code",
     "collapsed": false,
     "input": [
      "s = pd.Series(np.random.randint(0, 8, size = 8))\n",
      "print(s)\n",
      "print(df)\n",
      "print(df * s) #notice this applies the Series row-wise, not column-wise.\n",
      "print(df * 5)"
     ],
     "language": "python",
     "metadata": {},
     "outputs": []
    },
    {
     "cell_type": "markdown",
     "metadata": {},
     "source": [
      "And notice what happens if your Series (or DataFrame) is a different size than your original."
     ]
    },
    {
     "cell_type": "code",
     "collapsed": false,
     "input": [
      "s2 = pd.Series(np.random.randint(0, 8, size = 3))\n",
      "print(s2)\n",
      "print(df)\n",
      "print(df * s2)"
     ],
     "language": "python",
     "metadata": {},
     "outputs": []
    },
    {
     "cell_type": "markdown",
     "metadata": {},
     "source": [
      "Now that you have an idea of how vectorization works, it's your turn.<br>\n",
      "Create two 20x20 DataFrames and fill them with random integers between 0 and 50.<br>\n",
      "Now find the differences in the means of the rows of the DataFrames.  So you should print out a Series that shows, e.g., the mean values of row 1 of DataFrame 1 minus the mean of the values of row 1 of DataFrame 2.  The Series should be 20 elements long."
     ]
    },
    {
     "cell_type": "code",
     "collapsed": false,
     "input": [
      "#Insert your code here"
     ],
     "language": "python",
     "metadata": {},
     "outputs": []
    },
    {
     "cell_type": "markdown",
     "metadata": {},
     "source": [
      "For your week 5 homework, you constructed a term-document matrix for several books.  I want you to take this term-document matrix (__NOT THE TF-IDF MATRIX__) and perform the following statistical operation on it:<br>\n",
      "Calculate the probability (p) of each term within each document.  In this case, p = c/N, where c == the number of times the word occurs in the text and N == the total number of words in the text.  Your result should be a matrix of the same size as the original term-document matrix."
     ]
    },
    {
     "cell_type": "code",
     "collapsed": false,
     "input": [
      "#Insert your code here."
     ],
     "language": "python",
     "metadata": {},
     "outputs": []
    },
    {
     "cell_type": "markdown",
     "metadata": {},
     "source": [
      "For your week 6 homework, you calculated a co-occurrence matrix for several of the above-mentioned texts.  Now I want you to use these matrices along with the term-document matrices mentioned above to calculate the probability (p2) that two words co-occur given that the target word occurs.<br>\n",
      "In this case, p2 = c12/c1, where c12 == the number of co-occurrences of word1 with word 2 and c1 == the number of times that word1 (the target word) occurs.  The result should be a matrix for each document of the same size as the original matrix.<br>\n",
      "Your code should also produce output files that I can produce myself and check.  Don't worry about pushing your output files to Github.  If your code works, I should be able to reproduce them myself.<br>\n",
      "__NB: I expect this to be difficult.  Make sure that you look at your results to make sure that they make sense.  E.g., if you get values here (or in the previous activity) that are more than 1.0 or less than 0.0, something is wrong.  Figure out what.__"
     ]
    },
    {
     "cell_type": "code",
     "collapsed": false,
     "input": [
      "#Insert your code here."
     ],
     "language": "python",
     "metadata": {},
     "outputs": []
    }
   ],
   "metadata": {}
  }
 ]
}